{
 "cells": [
  {
   "cell_type": "code",
   "execution_count": 2,
   "metadata": {},
   "outputs": [],
   "source": [
    "import pandas as pd"
   ]
  },
  {
   "cell_type": "code",
   "execution_count": 7,
   "metadata": {},
   "outputs": [],
   "source": [
    "# 각 id에 대해 sentiment_label의 빈도를 계산하여, 가장 많이 나온 2개의 감정을 새로운 칼럼으로 추가\n",
    "\n",
    "def get_top_two_sentiments(sentiments):\n",
    "    sentiment_counts = sentiments.value_counts()\n",
    "    # 가장 많은 2개 감정을 반환\n",
    "    top_two = sentiment_counts.head(2).index.tolist()\n",
    "    # 2개 미만일 경우 빈 값 처리\n",
    "    return top_two + [None] * (2 - len(top_two))"
   ]
  },
  {
   "cell_type": "code",
   "execution_count": 8,
   "metadata": {},
   "outputs": [
    {
     "data": {
      "text/html": [
       "<div>\n",
       "<style scoped>\n",
       "    .dataframe tbody tr th:only-of-type {\n",
       "        vertical-align: middle;\n",
       "    }\n",
       "\n",
       "    .dataframe tbody tr th {\n",
       "        vertical-align: top;\n",
       "    }\n",
       "\n",
       "    .dataframe thead th {\n",
       "        text-align: right;\n",
       "    }\n",
       "</style>\n",
       "<table border=\"1\" class=\"dataframe\">\n",
       "  <thead>\n",
       "    <tr style=\"text-align: right;\">\n",
       "      <th></th>\n",
       "      <th>title</th>\n",
       "      <th>text</th>\n",
       "      <th>top_sentiment</th>\n",
       "      <th>second_sentiment</th>\n",
       "    </tr>\n",
       "  </thead>\n",
       "  <tbody>\n",
       "    <tr>\n",
       "      <th>0</th>\n",
       "      <td>이야기꾼 구연설화</td>\n",
       "      <td>[01범보다 무서운 곶감, 화자를 처음 만나 이야기를 들으러 왔다고 하자 서슴없이 ...</td>\n",
       "      <td>분노</td>\n",
       "      <td>당황</td>\n",
       "    </tr>\n",
       "    <tr>\n",
       "      <th>1</th>\n",
       "      <td>이야기꾼 구연설화</td>\n",
       "      <td>[&lt;봄꿩은 제 울음에 저 죽는다&gt;, 그 말과 같아서 사램이 잘못 되머넌 하는 말여....</td>\n",
       "      <td>상처</td>\n",
       "      <td>분노</td>\n",
       "    </tr>\n",
       "    <tr>\n",
       "      <th>2</th>\n",
       "      <td>이야기꾼 구연설화</td>\n",
       "      <td>[그래 그 여자가 쪄서 쌀얼 쪄서 밥얼 했어., “잡수라.”구., 그래 한 때를 몽...</td>\n",
       "      <td>상처</td>\n",
       "      <td>당황</td>\n",
       "    </tr>\n",
       "    <tr>\n",
       "      <th>3</th>\n",
       "      <td>이야기꾼 구연설화</td>\n",
       "      <td>[그랴. 그래 우리 인제 사춘 찾어간다는 얘기를 족~ 갈쳐중개,, “그러시냐구. 그...</td>\n",
       "      <td>상처</td>\n",
       "      <td>분노</td>\n",
       "    </tr>\n",
       "    <tr>\n",
       "      <th>4</th>\n",
       "      <td>이야기꾼 구연설화</td>\n",
       "      <td>[나와서 인제 그 집 먼지 인저 그, 그, 뭐여 면사무소 있는 디 나와서 인제, 거...</td>\n",
       "      <td>상처</td>\n",
       "      <td>분노</td>\n",
       "    </tr>\n",
       "  </tbody>\n",
       "</table>\n",
       "</div>"
      ],
      "text/plain": [
       "       title                                               text top_sentiment  \\\n",
       "0  이야기꾼 구연설화  [01범보다 무서운 곶감, 화자를 처음 만나 이야기를 들으러 왔다고 하자 서슴없이 ...            분노   \n",
       "1  이야기꾼 구연설화  [<봄꿩은 제 울음에 저 죽는다>, 그 말과 같아서 사램이 잘못 되머넌 하는 말여....            상처   \n",
       "2  이야기꾼 구연설화  [그래 그 여자가 쪄서 쌀얼 쪄서 밥얼 했어., “잡수라.”구., 그래 한 때를 몽...            상처   \n",
       "3  이야기꾼 구연설화  [그랴. 그래 우리 인제 사춘 찾어간다는 얘기를 족~ 갈쳐중개,, “그러시냐구. 그...            상처   \n",
       "4  이야기꾼 구연설화  [나와서 인제 그 집 먼지 인저 그, 그, 뭐여 면사무소 있는 디 나와서 인제, 거...            상처   \n",
       "\n",
       "  second_sentiment  \n",
       "0               당황  \n",
       "1               분노  \n",
       "2               당황  \n",
       "3               분노  \n",
       "4               분노  "
      ]
     },
     "execution_count": 8,
     "metadata": {},
     "output_type": "execute_result"
    }
   ],
   "source": [
    "novel = pd.read_csv(\"../datasets/classified_novel1.csv\")\n",
    "\n",
    "# 같은 title을 가진 데이터에서 100개씩 묶어 그룹화\n",
    "novel[\"group\"] = novel.groupby(\"title\").cumcount() // 100  # 100개 단위 그룹 생성\n",
    "\n",
    "novel_final = novel.groupby([\"file_id\", \"group\"]).agg({\n",
    "    \"title\": \"first\",  # 대표 file_id\n",
    "    \"text\": list,  # 100개씩 묶음\n",
    "    \"sentiment\": lambda x: get_top_two_sentiments(x)  # 빈도가 높은 2개의 감정 추출\n",
    "}).reset_index()\n",
    "\n",
    "# sentiment에서 두 개의 감정을 각각의 칼럼으로 분리\n",
    "novel_final[['top_sentiment', 'second_sentiment']] = pd.DataFrame(novel_final['sentiment'].tolist(), index=novel_final.index)\n",
    "\n",
    "# 불필요한 sentiment 칼럼 삭제\n",
    "novel_final = novel_final.drop(columns=[\"sentiment\", \"group\", \"file_id\"])\n",
    "\n",
    "novel_final.head()"
   ]
  },
  {
   "cell_type": "code",
   "execution_count": 9,
   "metadata": {},
   "outputs": [],
   "source": [
    "# 두 번째 감정이 없으면 첫 번재랑 같게\n",
    "novel_final[\"second_sentiment\"] = novel_final[\"second_sentiment\"].fillna(novel_final[\"top_sentiment\"])"
   ]
  },
  {
   "cell_type": "code",
   "execution_count": 10,
   "metadata": {},
   "outputs": [
    {
     "name": "stdout",
     "output_type": "stream",
     "text": [
      "<class 'pandas.core.frame.DataFrame'>\n",
      "RangeIndex: 8972 entries, 0 to 8971\n",
      "Data columns (total 4 columns):\n",
      " #   Column            Non-Null Count  Dtype \n",
      "---  ------            --------------  ----- \n",
      " 0   title             8972 non-null   object\n",
      " 1   text              8972 non-null   object\n",
      " 2   top_sentiment     8972 non-null   object\n",
      " 3   second_sentiment  8972 non-null   object\n",
      "dtypes: object(4)\n",
      "memory usage: 280.5+ KB\n"
     ]
    }
   ],
   "source": [
    "novel_final.info()"
   ]
  },
  {
   "cell_type": "code",
   "execution_count": 11,
   "metadata": {},
   "outputs": [],
   "source": [
    "novel_final.to_csv(\"../datasets/novel_final.csv\")"
   ]
  },
  {
   "cell_type": "code",
   "execution_count": null,
   "metadata": {},
   "outputs": [],
   "source": []
  }
 ],
 "metadata": {
  "kernelspec": {
   "display_name": "test",
   "language": "python",
   "name": "python3"
  },
  "language_info": {
   "codemirror_mode": {
    "name": "ipython",
    "version": 3
   },
   "file_extension": ".py",
   "mimetype": "text/x-python",
   "name": "python",
   "nbconvert_exporter": "python",
   "pygments_lexer": "ipython3",
   "version": "3.9.21"
  }
 },
 "nbformat": 4,
 "nbformat_minor": 2
}
